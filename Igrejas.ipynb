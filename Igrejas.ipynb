{
 "cells": [
  {
   "cell_type": "code",
   "execution_count": 7,
   "metadata": {},
   "outputs": [
    {
     "name": "stdout",
     "output_type": "stream",
     "text": [
      "Total de registros gravados: 106941\n"
     ]
    }
   ],
   "source": [
    "import csv\n",
    "csv_file = open('data/todas.csv', mode='r')\n",
    "dest_file = open('data/igrejas.csv', mode='w')\n",
    "reader = csv.DictReader(csv_file, delimiter=',')\n",
    "reader.fieldnames\n",
    "\n",
    "writer = csv.DictWriter(dest_file,delimiter=',',fieldnames=reader.fieldnames[:-1])\n",
    "writer.writeheader()\n",
    "\n",
    "count = 0\n",
    "for row in reader:\n",
    "    if row['is_evangelic'] == '1':\n",
    "        writer.writerow(row[:-1])\n",
    "        count += 1\n",
    "dest_file.close()\n",
    "csv_file.close()\n",
    "print('Total de registros gravados: %d' % count)"
   ]
  },
  {
   "cell_type": "code",
   "execution_count": 4,
   "metadata": {},
   "outputs": [
    {
     "data": {
      "text/plain": [
       "['cnpj',\n",
       " 'razao_social',\n",
       " 'nome_fantasia',\n",
       " 'data_situacao_cadastral',\n",
       " 'codigo_natureza_juridica',\n",
       " 'data_inicio_atividade',\n",
       " 'cnae_fiscal',\n",
       " 'uf',\n",
       " 'codigo_municipio',\n",
       " 'municipio',\n",
       " 'qualificacao_do_responsavel',\n",
       " 'porte',\n",
       " 'is_evangelic']"
      ]
     },
     "execution_count": 4,
     "metadata": {},
     "output_type": "execute_result"
    }
   ],
   "source": [
    "import csv\n",
    "csv_file = open('data/todas.csv', mode='r')\n",
    "dest_file = open('data/igrejas.csv', mode='w')\n",
    "reader = csv.DictReader(csv_file, delimiter=',')\n",
    "reader.fieldnames"
   ]
  },
  {
   "cell_type": "code",
   "execution_count": 6,
   "metadata": {},
   "outputs": [],
   "source": [
    "csv_file.close()\n",
    "dest_file.close()"
   ]
  },
  {
   "cell_type": "code",
   "execution_count": 18,
   "metadata": {
    "collapsed": true
   },
   "outputs": [
    {
     "name": "stdout",
     "output_type": "stream",
     "text": [
      "cnpj\n",
      "identificador_de_socio\n",
      "nome_socio\n",
      "cnpj_cpf_do_socio\n",
      "codigo_qualificacao_socio\n",
      "percentual_capital_social\n",
      "data_entrada_sociedade\n",
      "cpf_representante_legal\n",
      "nome_representante_legal\n",
      "codigo_qualificacao_representante_legal\n",
      "0      2\n",
      "1      2\n",
      "2      2\n",
      "3      2\n",
      "4      2\n",
      "5      2\n",
      "6      2\n",
      "7      2\n",
      "8      2\n",
      "9      2\n",
      "10     2\n",
      "11     2\n",
      "12     2\n",
      "13     2\n",
      "14     2\n",
      "15     2\n",
      "16     2\n",
      "17     2\n",
      "18     2\n",
      "19     2\n",
      "20     2\n",
      "21     2\n",
      "22     2\n",
      "23     2\n",
      "24     2\n",
      "25     2\n",
      "26     2\n",
      "27     2\n",
      "28     2\n",
      "29     2\n",
      "      ..\n",
      "170    2\n",
      "171    2\n",
      "172    2\n",
      "173    2\n",
      "174    2\n",
      "175    2\n",
      "176    2\n",
      "177    2\n",
      "178    2\n",
      "179    2\n",
      "180    2\n",
      "181    2\n",
      "182    2\n",
      "183    2\n",
      "184    2\n",
      "185    2\n",
      "186    2\n",
      "187    2\n",
      "188    2\n",
      "189    2\n",
      "190    2\n",
      "191    2\n",
      "192    2\n",
      "193    2\n",
      "194    2\n",
      "195    2\n",
      "196    2\n",
      "197    2\n",
      "198    2\n",
      "199    2\n",
      "Name: identificador_de_socio, Length: 200, dtype: int64\n"
     ]
    }
   ],
   "source": [
    "import pandas as pd\n",
    "\n",
    "for chunk in pd.read_csv('socios/socio.csv',chunksize=200):\n",
    "    for col in chunk.columns: \n",
    "        print(col) \n",
    "    print(chunk['identificador_de_socio'])\n",
    "    break"
   ]
  },
  {
   "cell_type": "code",
   "execution_count": 22,
   "metadata": {},
   "outputs": [],
   "source": [
    "import pandas as pd\n",
    "from collections import Counter\n",
    "\n",
    "tipo = Counter()\n",
    "for chunk in pd.read_csv('socios/socio.csv',chunksize=200):\n",
    "    for registro in chunk['identificador_de_socio'].data:\n",
    "        tipo[ registro ] += 1"
   ]
  },
  {
   "cell_type": "code",
   "execution_count": 29,
   "metadata": {},
   "outputs": [
    {
     "name": "stdout",
     "output_type": "stream",
     "text": [
      "25873191\n"
     ]
    }
   ],
   "source": [
    "print(tipo[1]+tipo[2]+tipo[3])"
   ]
  },
  {
   "cell_type": "code",
   "execution_count": 23,
   "metadata": {},
   "outputs": [
    {
     "name": "stdout",
     "output_type": "stream",
     "text": [
      "Counter({2: 25120735, 1: 733531, 3: 18925})\n"
     ]
    }
   ],
   "source": [
    "tipo = Counter()\n",
    "for chunk in pd.read_csv('socios/socio.csv',chunksize=200):\n",
    "    for registro in chunk['identificador_de_socio'].data == 3\n",
    "        print(??)\n",
    "        \n",
    "# Como obter o nome do sócio (?) - Desisti do Panda"
   ]
  },
  {
   "cell_type": "code",
   "execution_count": null,
   "metadata": {},
   "outputs": [],
   "source": [
    "import csv\n",
    "csv_file = open('data/socios.csv', mode='r')\n",
    "reader = csv.DictReader(csv_file, delimiter=',')\n",
    "reader.fieldnames"
   ]
  }
 ],
 "metadata": {
  "kernelspec": {
   "display_name": "Python 3",
   "language": "python",
   "name": "python3"
  },
  "language_info": {
   "codemirror_mode": {
    "name": "ipython",
    "version": 3
   },
   "file_extension": ".py",
   "mimetype": "text/x-python",
   "name": "python",
   "nbconvert_exporter": "python",
   "pygments_lexer": "ipython3",
   "version": "3.5.2"
  }
 },
 "nbformat": 4,
 "nbformat_minor": 4
}
